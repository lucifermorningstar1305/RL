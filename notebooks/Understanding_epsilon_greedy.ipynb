{
 "cells": [
  {
   "cell_type": "code",
   "execution_count": 19,
   "metadata": {},
   "outputs": [],
   "source": [
    "import numpy as np\n",
    "import matplotlib.pyplot as plt\n",
    "import seaborn as sns\n",
    "import pandas as pd\n",
    "from colorama import Fore, Style\n",
    "from jupyterthemes import jtplot\n",
    "jtplot.style(context=\"notebook\", theme=\"monokai\", ticks=True)"
   ]
  },
  {
   "cell_type": "code",
   "execution_count": 2,
   "metadata": {},
   "outputs": [
    {
     "name": "stdout",
     "output_type": "stream",
     "text": [
      "{'0.0-0.05': 549, '0.05-0.1': 487, '0.1-0.5': 4019, '0.5-1.0': 4945}\n"
     ]
    }
   ],
   "source": [
    "random_data = np.random.random(size=10000) # generates random number in range [0.0-1.0) of size 10000\n",
    "data = {\"0.0-0.05\": 0, \n",
    "       \"0.05-0.1\":0,\n",
    "       \"0.1-0.5\":0,\n",
    "       \"0.5-1.0\":0}\n",
    "\n",
    "\n",
    "for i in random_data:\n",
    "    \n",
    "    if i <= 0.05:\n",
    "        data[\"0.0-0.05\"] += 1\n",
    "    elif i > 0.05 and i <= 0.1:\n",
    "        data[\"0.05-0.1\"] += 1\n",
    "        \n",
    "    elif i > 0.1 and i <= 0.5:\n",
    "        data[\"0.1-0.5\"] += 1\n",
    "        \n",
    "    else:\n",
    "        data[\"0.5-1.0\"] += 1\n",
    "        \n",
    "\n",
    "print(data)"
   ]
  },
  {
   "cell_type": "code",
   "execution_count": 3,
   "metadata": {},
   "outputs": [
    {
     "data": {
      "text/html": [
       "<div>\n",
       "<style scoped>\n",
       "    .dataframe tbody tr th:only-of-type {\n",
       "        vertical-align: middle;\n",
       "    }\n",
       "\n",
       "    .dataframe tbody tr th {\n",
       "        vertical-align: top;\n",
       "    }\n",
       "\n",
       "    .dataframe thead th {\n",
       "        text-align: right;\n",
       "    }\n",
       "</style>\n",
       "<table border=\"1\" class=\"dataframe\">\n",
       "  <thead>\n",
       "    <tr style=\"text-align: right;\">\n",
       "      <th></th>\n",
       "      <th>observations</th>\n",
       "      <th>frequency</th>\n",
       "    </tr>\n",
       "  </thead>\n",
       "  <tbody>\n",
       "    <tr>\n",
       "      <th>0</th>\n",
       "      <td>0.0-0.05</td>\n",
       "      <td>549</td>\n",
       "    </tr>\n",
       "    <tr>\n",
       "      <th>1</th>\n",
       "      <td>0.05-0.1</td>\n",
       "      <td>487</td>\n",
       "    </tr>\n",
       "    <tr>\n",
       "      <th>2</th>\n",
       "      <td>0.1-0.5</td>\n",
       "      <td>4019</td>\n",
       "    </tr>\n",
       "    <tr>\n",
       "      <th>3</th>\n",
       "      <td>0.5-1.0</td>\n",
       "      <td>4945</td>\n",
       "    </tr>\n",
       "  </tbody>\n",
       "</table>\n",
       "</div>"
      ],
      "text/plain": [
       "  observations  frequency\n",
       "0     0.0-0.05        549\n",
       "1     0.05-0.1        487\n",
       "2      0.1-0.5       4019\n",
       "3      0.5-1.0       4945"
      ]
     },
     "execution_count": 3,
     "metadata": {},
     "output_type": "execute_result"
    }
   ],
   "source": [
    "final_data = {\"observations\":list(data.keys()), \"frequency\":list(data.values())}\n",
    "\n",
    "df = pd.DataFrame(final_data)\n",
    "\n",
    "df"
   ]
  },
  {
   "cell_type": "code",
   "execution_count": 8,
   "metadata": {},
   "outputs": [
    {
     "data": {
      "image/png": "[encoded data removed]",
      "text/plain": [
       "<Figure size 1080x720 with 1 Axes>"
      ]
     },
     "metadata": {},
     "output_type": "display_data"
    }
   ],
   "source": [
    "plt.figure(figsize=(15, 10))\n",
    "sns.barplot(x=\"observations\", y=\"frequency\", data=df)\n",
    "plt.show()"
   ]
  },
  {
   "cell_type": "markdown",
   "metadata": {},
   "source": [
    "# Epsilon-Greedy\n",
    "\n",
    "\n",
    "**IDEA** : Instead of always selecting the greedy procedure i.e., selecting the bandit with maximum win-rate, there should be small probability of selecting something at random (*non-greedy*)"
   ]
  },
  {
   "cell_type": "code",
   "execution_count": 9,
   "metadata": {},
   "outputs": [],
   "source": [
    "from bandit_class import Bandit"
   ]
  },
  {
   "cell_type": "code",
   "execution_count": 29,
   "metadata": {},
   "outputs": [],
   "source": [
    "NUM_TRIALS = 10000\n",
    "WIN_RATES = [0.2, 0.5, 0.75]\n",
    "EPS = 0.1"
   ]
  },
  {
   "cell_type": "markdown",
   "metadata": {},
   "source": [
    "## - Greedy Approach "
   ]
  },
  {
   "cell_type": "code",
   "execution_count": 30,
   "metadata": {},
   "outputs": [],
   "source": [
    "def greed():\n",
    "    \n",
    "    bandits = [Bandit(p) for p in WIN_RATES]\n",
    "    optimal_bandit = np.argmax([b.p for b in bandits])\n",
    "    \n",
    "    print(f\"The optimal bandit : {optimal_bandit}\")\n",
    "    \n",
    "    rewards = np.zeros(NUM_TRIALS)\n",
    "    \n",
    "    for i in range(NUM_TRIALS):\n",
    "\n",
    "        x = bandits[optimal_bandit].pull()\n",
    "        rewards[i] = x\n",
    "        bandits[optimal_bandit].update(x)\n",
    "        \n",
    "        \n",
    "    print(f\"Total reward obtained : {rewards.sum()}\")\n",
    "    print(f\"Overall win rate : {rewards.sum() / NUM_TRIALS}\")\n",
    "    "
   ]
  },
  {
   "cell_type": "code",
   "execution_count": 58,
   "metadata": {},
   "outputs": [
    {
     "name": "stdout",
     "output_type": "stream",
     "text": [
      "The optimal bandit : 2\n",
      "Total reward obtained : 7497.0\n",
      "Overall win rate : 0.7497\n"
     ]
    }
   ],
   "source": [
    "greed()"
   ]
  },
  {
   "cell_type": "markdown",
   "metadata": {},
   "source": [
    "## - Epsilon-Greedy"
   ]
  },
  {
   "cell_type": "code",
   "execution_count": 20,
   "metadata": {},
   "outputs": [],
   "source": [
    "def experiment():\n",
    "    \n",
    "    bandits = [Bandit(p) for p in WIN_RATES]\n",
    "    \n",
    "    optimal_bandit = np.argmax([b.p for b in bandits])\n",
    "    print(f\"The optimal bandit : {optimal_bandit}\")\n",
    "    \n",
    "    rewards = np.zeros(NUM_TRIALS)\n",
    "    num_times_explored = 0\n",
    "    num_times_exploited = 0\n",
    "    num_optimal = 0\n",
    "    \n",
    "    for i in range(NUM_TRIALS):\n",
    "        \n",
    "        if np.random.random() < EPS:\n",
    "            num_times_explored += 1\n",
    "            \n",
    "            j = np.random.randint(len(bandits))\n",
    "            \n",
    "            \n",
    "        else:\n",
    "            num_times_exploited += 1\n",
    "            j = np.argmax([b.p_estimate for b in bandits])\n",
    "            \n",
    "        if j == optimal_bandit:\n",
    "            num_optimal += 1\n",
    "            \n",
    "            \n",
    "        x = bandits[j].pull()\n",
    "        rewards[i] = x\n",
    "        bandits[j].update(x)\n",
    "            \n",
    "            \n",
    "    print(f\"Total reward collected : {rewards.sum()}\")\n",
    "    print(f\"Overall Win rate : {rewards.sum() / NUM_TRIALS}\")\n",
    "    print(Fore.RED, f\"Percentage of times explored : {num_times_explored / NUM_TRIALS * 100}%\", Style.RESET_ALL)\n",
    "    print(Fore.BLUE, f\"Percentage of times exploited : {num_times_exploited / NUM_TRIALS * 100}%\", Style.RESET_ALL)\n",
    "    print(Fore.YELLOW, f\"Percentage of times optimal bandit was used : {num_optimal / NUM_TRIALS * 100}%\", Style.RESET_ALL)\n",
    "    \n",
    "    \n",
    "    # plot the results\n",
    "    \n",
    "    cumulative_rewards = np.cumsum(rewards)\n",
    "    cumulative_win_rates = cumulative_rewards / (np.arange(NUM_TRIALS) + 1)\n",
    "    plt.plot(cumulative_win_rates, label=\"win rate obtained by agent\")\n",
    "    plt.xlabel(\"Epochs\")\n",
    "    plt.ylabel(\"Cumulative Win-rates\")\n",
    "    plt.plot(np.ones(NUM_TRIALS) * np.max(WIN_RATES), label=\"optimal bandit win rate\")\n",
    "    plt.legend()\n",
    "    plt.show()\n",
    "    "
   ]
  },
  {
   "cell_type": "code",
   "execution_count": 22,
   "metadata": {},
   "outputs": [
    {
     "name": "stdout",
     "output_type": "stream",
     "text": [
      "The optimal bandit : 2\n",
      "Total reward collected : 7231.0\n",
      "Overall Win rate : 0.7231\n",
      "\u001b[31m Percentage of times explored : 10.12% \u001b[0m\n",
      "\u001b[34m Percentage of times exploited : 89.88000000000001% \u001b[0m\n",
      "\u001b[33m Percentage of times optimal bandit was used : 93.2% \u001b[0m\n"
     ]
    },
    {
     "data": {
      "image/png": "[encoded data removed]",
      "text/plain": [
       "<Figure size 576x504 with 1 Axes>"
      ]
     },
     "metadata": {},
     "output_type": "display_data"
    }
   ],
   "source": [
    "experiment()"
   ]
  },
  {
   "cell_type": "markdown",
   "metadata": {},
   "source": [
    "# Observation-1 👀:\n",
    "\n",
    "As we can see that our algorithm converges to the **optimal win-rate** over time.\n",
    "\n",
    "Now there is a catch to the above code if you noticed the code properly then you can see that I have applied `np.random.random() < EPS` in the if condition, now the question is why?\n",
    "\n",
    "\n",
    "To solve this mystery let's use the above function but with a reversed if condition i.e. `np.random.random() > EPS`"
   ]
  },
  {
   "cell_type": "code",
   "execution_count": 26,
   "metadata": {},
   "outputs": [],
   "source": [
    "def experiment2():\n",
    "    \n",
    "    bandits = [Bandit(p) for p in WIN_RATES]\n",
    "    \n",
    "    optimal_bandit = np.argmax([b.p for b in bandits])\n",
    "    print(f\"The optimal bandit : {optimal_bandit}\")\n",
    "    \n",
    "    rewards = np.zeros(NUM_TRIALS)\n",
    "    num_times_explored = 0\n",
    "    num_times_exploited = 0\n",
    "    num_optimal = 0\n",
    "    \n",
    "    for i in range(NUM_TRIALS):\n",
    "        \n",
    "        if np.random.random() > EPS:\n",
    "            num_times_explored += 1\n",
    "            \n",
    "            j = np.random.randint(len(bandits))\n",
    "            \n",
    "            \n",
    "        else:\n",
    "            num_times_exploited += 1\n",
    "            j = np.argmax([b.p_estimate for b in bandits])\n",
    "            \n",
    "        if j == optimal_bandit:\n",
    "            num_optimal += 1\n",
    "            \n",
    "            \n",
    "        x = bandits[j].pull()\n",
    "        rewards[i] = x\n",
    "        bandits[j].update(x)\n",
    "            \n",
    "            \n",
    "    print(f\"Total reward collected : {rewards.sum()}\")\n",
    "    print(f\"Overall Win rate : {rewards.sum() / NUM_TRIALS}\")\n",
    "    print(Fore.GREEN, f\"Percentage of times explored : {num_times_explored / NUM_TRIALS * 100}%\", Style.RESET_ALL)\n",
    "    print(Fore.MAGENTA, f\"Percentage of times exploited : {num_times_exploited / NUM_TRIALS * 100}%\", Style.RESET_ALL)\n",
    "    print(Fore.CYAN, f\"Percentage of times optimal bandit was used : {num_optimal / NUM_TRIALS * 100}%\", Style.RESET_ALL)\n",
    "    \n",
    "    \n",
    "    # plot the results\n",
    "    \n",
    "    cumulative_rewards = np.cumsum(rewards)\n",
    "    cumulative_win_rates = cumulative_rewards / (np.arange(NUM_TRIALS) + 1)\n",
    "    plt.plot(cumulative_win_rates, label=\"win rate obtained by agent\")\n",
    "    plt.xlabel(\"Epochs\")\n",
    "    plt.ylabel(\"Cumulative Win-rates\")\n",
    "    plt.plot(np.ones(NUM_TRIALS) * np.max(WIN_RATES), label=\"optimal bandit win rate\")\n",
    "    plt.legend()\n",
    "    plt.show()\n",
    "    "
   ]
  },
  {
   "cell_type": "code",
   "execution_count": 27,
   "metadata": {},
   "outputs": [
    {
     "name": "stdout",
     "output_type": "stream",
     "text": [
      "The optimal bandit : 2\n",
      "Total reward collected : 5110.0\n",
      "Overall Win rate : 0.511\n",
      "\u001b[32m Percentage of times explored : 90.13% \u001b[0m\n",
      "\u001b[35m Percentage of times exploited : 9.87% \u001b[0m\n",
      "\u001b[36m Percentage of times optimal bandit was used : 39.94% \u001b[0m\n"
     ]
    },
    {
     "data": {
      "image/png": "[encoded data removed]",
      "text/plain": [
       "<Figure size 576x504 with 1 Axes>"
      ]
     },
     "metadata": {},
     "output_type": "display_data"
    }
   ],
   "source": [
    "experiment2()"
   ]
  },
  {
   "cell_type": "markdown",
   "metadata": {},
   "source": [
    "# Observation-2 🔬:\n",
    "\n",
    "As you can see :\n",
    "\n",
    "* If the condition `np.random.random() < EPS` is reversed then the algorithm never converges to the **optimal win-rate**. Now why is that?\n",
    "* It is because more time is spent on exploration rather than exploitation, which can be seen in the above outputs.\n",
    "* And thereby the selection of optimal bandit is reduced by almost three-fold. \n",
    "* The **bar-plot** which is plotted in the first half of the notebook, shows it clearly that the frequency of numbers < 0.1 is pretty less compared to when it is more. Therefore if `np.random.random() < EPS` then more time will be spent in **exploration** rather than **exploitation**.  \n",
    "* Plus the definition of epsilon-greedy says that a small probability of time should be spent in exploration, and using the reversed we just defy the definition like a boss 😎. "
   ]
  },
  {
   "cell_type": "code",
   "execution_count": null,
   "metadata": {},
   "outputs": [],
   "source": []
  }
 ],
 "metadata": {
  "kernelspec": {
   "display_name": "Python 3",
   "language": "python",
   "name": "python3"
  },
  "language_info": {
   "codemirror_mode": {
    "name": "ipython",
    "version": 3
   },
   "file_extension": ".py",
   "mimetype": "text/x-python",
   "name": "python",
   "nbconvert_exporter": "python",
   "pygments_lexer": "ipython3",
   "version": "3.8.5"
  }
 },
 "nbformat": 4,
 "nbformat_minor": 4
}
